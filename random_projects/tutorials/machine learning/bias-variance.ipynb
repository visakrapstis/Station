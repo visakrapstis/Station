{
 "cells": [
  {
   "cell_type": "markdown",
   "metadata": {},
   "source": [
    "#   Bias: error on trainset"
   ]
  },
  {
   "cell_type": "markdown",
   "metadata": {},
   "source": [
    "BIAS is a measurement of how accurately a model can capture in a training dataset. In above case since train error is big it is said to have a high bias."
   ]
  },
  {
   "cell_type": "markdown",
   "metadata": {},
   "source": [
    "#   Variance: error on testset"
   ]
  },
  {
   "cell_type": "markdown",
   "metadata": {},
   "source": [
    "Variance - error on a testdata. By high variance happens overfitting, when the model is too accurate on training, but too bad on test\n",
    "high variance = low error on training data, but high error no test."
   ]
  },
  {
   "cell_type": "markdown",
   "metadata": {},
   "source": [
    "wanted is low bias, low variance"
   ]
  },
  {
   "cell_type": "code",
   "execution_count": null,
   "metadata": {
    "vscode": {
     "languageId": "plaintext"
    }
   },
   "outputs": [],
   "source": []
  }
 ],
 "metadata": {
  "language_info": {
   "name": "python"
  }
 },
 "nbformat": 4,
 "nbformat_minor": 2
}
